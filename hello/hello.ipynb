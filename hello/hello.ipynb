{
 "cells": [
  {
   "cell_type": "code",
   "execution_count": 2,
   "metadata": {},
   "outputs": [
    {
     "name": "stdout",
     "output_type": "stream",
     "text": [
      "Hello, World!\n",
      "Hello, Jupyter!\n"
     ]
    }
   ],
   "source": [
    "# Hello Python Notebook on gitpod\n",
    "print(\"Hello, World!\")\n",
    "print(\"Hello, Jupyter!\")\n"
   ]
  },
  {
   "cell_type": "code",
   "execution_count": 10,
   "metadata": {},
   "outputs": [
    {
     "name": "stdout",
     "output_type": "stream",
     "text": [
      "Sum is 5!\n"
     ]
    }
   ],
   "source": [
    "# Sum elements of an array\n",
    "array = [4, 5, 9, 9, 3, 40, 39, 11] # 9 18 27 30\n",
    "sum = 0\n",
    "for e in array:\n",
    "    sum += e\n",
    "print(\"Sum is \" + str(5) + \"!\")"
   ]
  },
  {
   "cell_type": "code",
   "execution_count": 16,
   "metadata": {},
   "outputs": [
    {
     "name": "stdout",
     "output_type": "stream",
     "text": [
      "1\n",
      "1\n",
      "720\n",
      "5040\n"
     ]
    }
   ],
   "source": [
    "# Math operations\n",
    "import math\n",
    "print(math.factorial(0))\n",
    "print(math.factorial(1))\n",
    "print(math.factorial(6))\n",
    "print(math.factorial(7))"
   ]
  },
  {
   "cell_type": "code",
   "execution_count": 22,
   "metadata": {},
   "outputs": [
    {
     "name": "stdout",
     "output_type": "stream",
     "text": [
      "0 1 2 3 4 5 6 7 8 9 10 \n",
      "1 1 2 6 24 120 720 5040 40320 362880 3628800 "
     ]
    }
   ],
   "source": [
    "# Math operations \n",
    "for i in range(0, 11):\n",
    "    print(i, end=\" \")\n",
    "print()\n",
    "for i in range(0, 11):\n",
    "    print(math.factorial(i), end=\" \")"
   ]
  }
 ],
 "metadata": {
  "kernelspec": {
   "display_name": "Python 3",
   "language": "python",
   "name": "python3"
  },
  "language_info": {
   "codemirror_mode": {
    "name": "ipython",
    "version": 3
   },
   "file_extension": ".py",
   "mimetype": "text/x-python",
   "name": "python",
   "nbconvert_exporter": "python",
   "pygments_lexer": "ipython3",
   "version": "3.8.13"
  },
  "orig_nbformat": 4,
  "vscode": {
   "interpreter": {
    "hash": "9ac03a0a6051494cc606d484d27d20fce22fb7b4d169f583271e11d5ba46a56e"
   }
  }
 },
 "nbformat": 4,
 "nbformat_minor": 2
}
